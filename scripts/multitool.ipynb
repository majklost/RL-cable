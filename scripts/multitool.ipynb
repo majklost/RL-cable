{
 "cells": [
  {
   "cell_type": "code",
   "execution_count": 1,
   "metadata": {},
   "outputs": [
    {
     "data": {
      "text/plain": [
       "<deform_rl.algos.save_manager._SaveManagerV2 at 0x7a1a17f2f730>"
      ]
     },
     "execution_count": 1,
     "metadata": {},
     "output_type": "execute_result"
    }
   ],
   "source": [
    "from argparse import ArgumentParser\n",
    "from pathlib import Path\n",
    "from deform_rl.algos.save_manager import print_experiment, load_manager,manual_creation,ExperimentDict,all_to_json,load_all_from_json\n",
    "\n",
    "\n",
    "cwd = Path().resolve()\n",
    "\"\"\"\n",
    "Many small functions for set up of broken things\n",
    "\"\"\"\n",
    "EXPERIMENTS_PATH = cwd.parent / \"experiments\"\n",
    "load_manager(EXPERIMENTS_PATH)"
   ]
  },
  {
   "cell_type": "code",
   "execution_count": 4,
   "metadata": {},
   "outputs": [
    {
     "name": "stdout",
     "output_type": "stream",
     "text": [
      "Experiment(run_cnt=1, comment=['movement cable'], env_name=CableReshapeMovement, dates=[datetime.datetime(2024, 12, 10, 15, 56, 31, 967593)], data={'seg_num': 10, 'cable_length': 300, 'scale_factor': 800})\n"
     ]
    }
   ],
   "source": [
    "print_experiment('cable-reshape-movementCable10')"
   ]
  },
  {
   "cell_type": "code",
   "execution_count": 3,
   "metadata": {},
   "outputs": [],
   "source": [
    "load_all_from_json()"
   ]
  },
  {
   "cell_type": "code",
   "execution_count": null,
   "metadata": {},
   "outputs": [],
   "source": []
  }
 ],
 "metadata": {
  "kernelspec": {
   "display_name": ".venv",
   "language": "python",
   "name": "python3"
  },
  "language_info": {
   "codemirror_mode": {
    "name": "ipython",
    "version": 3
   },
   "file_extension": ".py",
   "mimetype": "text/x-python",
   "name": "python",
   "nbconvert_exporter": "python",
   "pygments_lexer": "ipython3",
   "version": "3.10.12"
  }
 },
 "nbformat": 4,
 "nbformat_minor": 2
}
