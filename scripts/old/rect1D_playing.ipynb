{
 "cells": [
  {
   "cell_type": "code",
   "execution_count": 1,
   "metadata": {},
   "outputs": [
    {
     "name": "stdout",
     "output_type": "stream",
     "text": [
      "pygame 2.6.1 (SDL 2.28.4, Python 3.10.12)\n",
      "Hello from the pygame community. https://www.pygame.org/contribute.html\n"
     ]
    }
   ],
   "source": [
    "%load_ext autoreload\n",
    "%autoreload 2\n",
    "import pygame\n",
    "import os\n",
    "import numpy as np\n",
    "from datetime import datetime\n",
    "\n",
    "from stable_baselines3 import PPO,SAC\n",
    "from stable_baselines3.common.env_checker import check_env\n",
    "from stable_baselines3.common.env_util import make_vec_env\n",
    "from stable_baselines3.common.vec_env import DummyVecEnv,VecMonitor\n",
    "from gymnasium.wrappers import FlattenObservation,TimeLimit,NormalizeObservation\n",
    "from stable_baselines3.common.callbacks import CheckpointCallback, EvalCallback,BaseCallback\n",
    "\n",
    "from deform_rl.envs.Rectangle_env.environment import Rectangle1D"
   ]
  },
  {
   "cell_type": "code",
   "execution_count": 2,
   "metadata": {},
   "outputs": [],
   "source": [
    "from gymnasium import ObservationWrapper\n",
    "from gymnasium.spaces import Box,Dict\n",
    "\n",
    "\n",
    "sim_cfg = {\n",
    "    'width': 800,\n",
    "    'height': 800,\n",
    "    'FPS': 60,\n",
    "    'gravity': 0,\n",
    "    'damping': .15,\n",
    "    'collision_slope': 0.01,\n",
    "}\n",
    "\n",
    "class CustomNormalizeObsrvation(ObservationWrapper):\n",
    "    def __init__(self, env):\n",
    "        super().__init__(env)\n",
    "        self.width = env.width\n",
    "        self.height = env.height\n",
    "        max_length = np.linalg.norm([self.width,self.height])\n",
    "        low = np.array([-self.width,-self.height,-np.inf,-np.inf])\n",
    "        high = np.array([self.width,self.height,np.inf,np.inf])\n",
    "        self.observation_space = Box(low=low,high=high,dtype=np.float32)\n",
    "        \n",
    "        # self.observation_space = Box(low=np.array([0.,0.,-1000.,-1000.,0.,0.]), high=np.array([800.,800.,1000.,1000.,800.,800.]), shape=(6,), dtype=np.float64)\n",
    "        # self.observation_space = Box(low=0, high=1, shape=(4,), dtype=np.float64)\n",
    "    # def observation(self, observation):\n",
    "    #     mean = np.array([self.width, self.height]) / 2\n",
    "    #     position = (observation['position'])\n",
    "    #     velocity = observation['velocity']\n",
    "    #     target = (observation['target'])    \n",
    "    # return np.concatenate([position, velocity, target])\n",
    "    def observation(self, observation):\n",
    "        # mean = np.array([self.width,self.height]) / 2\n",
    "        position = observation['position']\n",
    "        target = observation['target']\n",
    "        velocity = observation['velocity']\n",
    "        rel_target = target - position\n",
    "        # rel_target /= np.array([self.width,self.height])\n",
    "        # velocity /= np.array([self.width,self.height])\n",
    "\n",
    "        return np.concatenate([rel_target,velocity],dtype=np.float32)"
   ]
  },
  {
   "cell_type": "code",
   "execution_count": 3,
   "metadata": {},
   "outputs": [],
   "source": [
    "def _init(threshold=30,seed=None):\n",
    "    # Base env\n",
    "    env = Rectangle1D(sim_config=sim_cfg, threshold=threshold, oneD=False, render_mode='human', seed=seed)\n",
    "    env = CustomNormalizeObsrvation(env)\n",
    "    # Apply wrappers\n",
    "    # env = FlattenObservation(env)\n",
    "    env = TimeLimit(env, max_episode_steps=1000)\n",
    "    check_env(env, warn=True)\n",
    "\n",
    "    return env"
   ]
  },
  {
   "cell_type": "code",
   "execution_count": null,
   "metadata": {},
   "outputs": [
    {
     "ename": "AttributeError",
     "evalue": "'NoneType' object has no attribute 'reset'",
     "output_type": "error",
     "traceback": [
      "\u001b[0;31m---------------------------------------------------------------------------\u001b[0m",
      "\u001b[0;31mAttributeError\u001b[0m                            Traceback (most recent call last)",
      "Cell \u001b[0;32mIn[9], line 7\u001b[0m\n\u001b[1;32m      5\u001b[0m t_model \u001b[38;5;241m=\u001b[39m PPO\u001b[38;5;241m.\u001b[39mload(os\u001b[38;5;241m.\u001b[39mpath\u001b[38;5;241m.\u001b[39mjoin(save_dir, \u001b[38;5;124m\"\u001b[39m\u001b[38;5;124mbest_model.zip\u001b[39m\u001b[38;5;124m\"\u001b[39m),force_reset\u001b[38;5;241m=\u001b[39m\u001b[38;5;28;01mTrue\u001b[39;00m)\n\u001b[1;32m      6\u001b[0m tenv \u001b[38;5;241m=\u001b[39m t_model\u001b[38;5;241m.\u001b[39mget_env()\n\u001b[0;32m----> 7\u001b[0m obs \u001b[38;5;241m=\u001b[39m \u001b[43mtenv\u001b[49m\u001b[38;5;241;43m.\u001b[39;49m\u001b[43mreset\u001b[49m(seed\u001b[38;5;241m=\u001b[39m\u001b[38;5;241m50\u001b[39m)\n\u001b[1;32m      8\u001b[0m cnt \u001b[38;5;241m=\u001b[39m \u001b[38;5;241m0\u001b[39m\n\u001b[1;32m      9\u001b[0m \u001b[38;5;28;01mfor\u001b[39;00m i \u001b[38;5;129;01min\u001b[39;00m \u001b[38;5;28mrange\u001b[39m(\u001b[38;5;241m10000\u001b[39m):\n",
      "\u001b[0;31mAttributeError\u001b[0m: 'NoneType' object has no attribute 'reset'"
     ]
    }
   ],
   "source": [
    "# random pick actions and visualize\n",
    "tenv = _init()\n",
    "obs, _ = tenv.reset(seed=50)\n",
    "# tenv = eval_env\n",
    "save_dir = \"./saved_models\"\n",
    "t_model = PPO.load(os.path.join(save_dir, \"best_model.zip\"),force_reset=True)\n",
    "cnt = 0\n",
    "for i in range(10000):\n",
    "    if cnt >= 1000:\n",
    "        print(\"Killed by timeout\")\n",
    "        obs,_ = tenv.reset()\n",
    "        cnt = 0\n",
    "    action,_ = t_model.predict(obs, deterministic=True)\n",
    "    obs, reward, done,truncated, info = tenv.step(action)\n",
    "    tenv.render()\n",
    "    if done:\n",
    "        obs,_ = tenv.reset()\n",
    "        print(\"Episode done: \", cnt)\n",
    "        cnt=0\n",
    "    if pygame.event.get(pygame.QUIT):\n",
    "        break\n",
    "    cnt +=1\n",
    "tenv.close()"
   ]
  },
  {
   "cell_type": "code",
   "execution_count": null,
   "metadata": {},
   "outputs": [],
   "source": []
  }
 ],
 "metadata": {
  "kernelspec": {
   "display_name": ".venv",
   "language": "python",
   "name": "python3"
  },
  "language_info": {
   "codemirror_mode": {
    "name": "ipython",
    "version": 3
   },
   "file_extension": ".py",
   "mimetype": "text/x-python",
   "name": "python",
   "nbconvert_exporter": "python",
   "pygments_lexer": "ipython3",
   "version": "3.10.12"
  }
 },
 "nbformat": 4,
 "nbformat_minor": 2
}
